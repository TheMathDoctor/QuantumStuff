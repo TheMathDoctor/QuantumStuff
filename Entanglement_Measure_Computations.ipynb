{
  "nbformat": 4,
  "nbformat_minor": 0,
  "metadata": {
    "colab": {
      "name": "Entanglement_Measure_Computations.ipynb",
      "provenance": [],
      "collapsed_sections": []
    },
    "kernelspec": {
      "name": "python3",
      "display_name": "Python 3"
    }
  },
  "cells": [
    {
      "cell_type": "code",
      "metadata": {
        "id": "3woDuRuUkNsi"
      },
      "source": [
        "!pip install qiskit \n",
        "from IPython.display import clear_output\n",
        "clear_output()"
      ],
      "execution_count": 1,
      "outputs": []
    },
    {
      "cell_type": "code",
      "metadata": {
        "id": "ZklI0rk2kO8m",
        "outputId": "cbe37d85-90b2-4dc9-ea4e-5c20698650f3",
        "colab": {
          "base_uri": "https://localhost:8080/",
          "height": 34
        }
      },
      "source": [
        "from qiskit import QuantumCircuit\n",
        "import numpy as np\n",
        "\n",
        "def my_qft(N,inverse):\n",
        "    pi = np.pi\n",
        "    \n",
        "    if inverse == True:\n",
        "        qft_circuit = QuantumCircuit(N,name = \"IQFT\")\n",
        "    else:\n",
        "        qft_circuit = QuantumCircuit(N,name = \"QFT\")\n",
        "        \n",
        "    for q in range(N):\n",
        "        qft_circuit.h(q)\n",
        "        for p in range(N):\n",
        "            if q<p:\n",
        "                qft_circuit.cu1(2*pi/(2**(p+1)),q,p)\n",
        "    \n",
        "    for q in range(N//2):\n",
        "        qft_circuit.swap(q,N-1-q)\n",
        "     \n",
        "    if inverse == True:\n",
        "        return qft_circuit.inverse()\n",
        "    else:\n",
        "        return qft_circuit\n",
        "\n",
        "\n",
        "qc=QuantumCircuit(3,3)\n",
        "qc.x(0)\n",
        "qc.x(1)\n",
        "qc.x(2)\n",
        "qc.append(my_qft(3,inverse=False),[0,1,2])\n",
        "qc.measure([0,1,2],[0,1,2])"
      ],
      "execution_count": 2,
      "outputs": [
        {
          "output_type": "execute_result",
          "data": {
            "text/plain": [
              "<qiskit.circuit.instructionset.InstructionSet at 0x7f1aeb1f6a90>"
            ]
          },
          "metadata": {
            "tags": []
          },
          "execution_count": 2
        }
      ]
    },
    {
      "cell_type": "code",
      "metadata": {
        "id": "Z7prBgkbkXXC",
        "outputId": "2c15c331-f3ad-4b9f-9690-7e5dbfc3bd6f",
        "colab": {
          "base_uri": "https://localhost:8080/",
          "height": 88
        }
      },
      "source": [
        "\n",
        "\n",
        "from qiskit import IBMQ\n",
        "IBMQ.save_account(token)\n",
        "IBMQ.load_account()\n",
        "provider = IBMQ.get_provider(hub='ibm-q')"
      ],
      "execution_count": 3,
      "outputs": [
        {
          "output_type": "stream",
          "text": [
            "configrc.store_credentials:WARNING:2020-10-02 18:48:00,415: Credentials already present. Set overwrite=True to overwrite.\n",
            "/usr/local/lib/python3.6/dist-packages/qiskit/providers/ibmq/ibmqfactory.py:192: UserWarning: Timestamps in IBMQ backend properties, jobs, and job results are all now in local time instead of UTC.\n",
            "  warnings.warn('Timestamps in IBMQ backend properties, jobs, and job results '\n"
          ],
          "name": "stderr"
        }
      ]
    },
    {
      "cell_type": "code",
      "metadata": {
        "id": "Wmahvvx2keR8",
        "outputId": "769ef5f3-a4d2-4b68-a4e4-afaa654f68fe",
        "colab": {
          "base_uri": "https://localhost:8080/",
          "height": 340
        }
      },
      "source": [
        "backend = provider.get_backend('ibmq_5_yorktown')\n",
        "\n",
        "from qiskit import Aer, execute\n",
        "#simulator = Aer.get_backend('qasm_simulator')\n",
        "#backend = simulator\n",
        "counts = execute(qc, backend=backend, shots=100).result().get_counts(qc)\n",
        "from qiskit.visualization import plot_histogram\n",
        "plot_histogram(counts)"
      ],
      "execution_count": 4,
      "outputs": [
        {
          "output_type": "execute_result",
          "data": {
            "image/png": "[encoded data removed]",
            "text/plain": [
              "<Figure size 504x360 with 1 Axes>"
            ]
          },
          "metadata": {
            "tags": []
          },
          "execution_count": 4
        }
      ]
    },
    {
      "cell_type": "code",
      "metadata": {
        "id": "Lh8LvIAOkiFU",
        "outputId": "f6f59e75-4161-49f6-bb58-a58506598819",
        "colab": {
          "base_uri": "https://localhost:8080/",
          "height": 416
        }
      },
      "source": [
        "#Constructs the circuit to prepare the GHZ state on N qubits from an intial state of all \\ket{0} \n",
        "def prepare_GHZ_state(N):\n",
        "  GHZ_circuit = QuantumCircuit(N,name='Prepare GHZ')\n",
        "  GHZ_circuit.h(0)\n",
        "  for i in range(N-1):\n",
        "    GHZ_circuit.cx(i,i+1)\n",
        "\n",
        "  print(GHZ_circuit.draw(output='text'))\n",
        "  return GHZ_circuit\n",
        "\n",
        "N=2\n",
        "#Note that N=2 produces a bell state\n",
        "ghz_test = QuantumCircuit(N,N)\n",
        "ghz_test.append(prepare_GHZ_state(N),range(N))\n",
        "ghz_test.measure(range(N),range(N))\n",
        "ghz_test.draw(output='text')\n",
        "backend = provider.get_backend('ibmq_5_yorktown')\n",
        "\n",
        "from qiskit import Aer, execute\n",
        "#simulator = Aer.get_backend('qasm_simulator')\n",
        "#backend=simulator\n",
        "shots=100\n",
        "counts = execute(ghz_test, backend=backend, shots=shots).result().get_counts(ghz_test)\n",
        "from qiskit.visualization import plot_histogram\n",
        "plot_histogram(counts)\n",
        "\n"
      ],
      "execution_count": 8,
      "outputs": [
        {
          "output_type": "stream",
          "text": [
            "     ┌───┐     \n",
            "q_0: ┤ H ├──■──\n",
            "     └───┘┌─┴─┐\n",
            "q_1: ─────┤ X ├\n",
            "          └───┘\n"
          ],
          "name": "stdout"
        },
        {
          "output_type": "execute_result",
          "data": {
            "image/png": "[encoded data removed]",
            "text/plain": [
              "<Figure size 504x360 with 1 Axes>"
            ]
          },
          "metadata": {
            "tags": []
          },
          "execution_count": 8
        }
      ]
    },
    {
      "cell_type": "markdown",
      "metadata": {
        "id": "ZAUYNiufzDlX"
      },
      "source": [
        "Let $\\big| \\psi \\rangle$ be a pure state in some hilbert space $\\mathbb{X}\\otimes\\mathbb{Y}$ with Schmidt decomposition $$\\big| \\psi \\rangle = \\displaystyle\\sum_i\\sqrt{\\lambda_i} \\big|x_i\\rangle_{\\mathbb{X}}\\otimes\\big| y_i\\rangle_{\\mathbb{Y}}$$ then the entropy of entanglement of $\\big| \\psi\\rangle$ is defined by $$\\text{S}(\\psi) = -\\displaystyle\\sum_i \\lambda_i\\log{\\lambda_i} $$\n",
        "and the entanglement number of $\\big| \\psi\\rangle$ is defined by \n",
        "$$e(\\psi)=\\big( 1- \\displaystyle\\sum_i\\lambda_i^2\\big)^\\frac{1}{2}  $$  \n",
        "Both of these functions are examples of bipartite entanglement measures. Let's see how their values compare on the Bell states. "
      ]
    },
    {
      "cell_type": "code",
      "metadata": {
        "id": "8kZPV3gSq_11",
        "outputId": "d9bafd8b-a9b4-4f78-9a96-8b94d1104e74",
        "colab": {
          "base_uri": "https://localhost:8080/",
          "height": 34
        }
      },
      "source": [
        "counts"
      ],
      "execution_count": 9,
      "outputs": [
        {
          "output_type": "execute_result",
          "data": {
            "text/plain": [
              "{'00': 51, '01': 5, '10': 5, '11': 39}"
            ]
          },
          "metadata": {
            "tags": []
          },
          "execution_count": 9
        }
      ]
    },
    {
      "cell_type": "code",
      "metadata": {
        "id": "gBYypuget7z8"
      },
      "source": [
        "import numpy.linalg as la \n",
        "#Note that if the c_ij are off by a phase shift on the ij component, the schmidt coefficients will be the same.\n",
        "#The resulting vectors in the schmidt decomposition may however be different. \n",
        "c_ij = [np.sqrt((counts.get(frequency)/shots)) for frequency in counts]\n",
        "\n",
        "M = np.matrix([[c_ij[0],c_ij[1]],\n",
        "               [c_ij[2],c_ij[3]]\n",
        "              ])\n",
        "schmidt_coefficients = la.svd(M)[1]\n",
        "\n",
        "entropy_of_entanglement = 0\n",
        "entanglement_number=0\n",
        "for s in schmidt_coefficients:\n",
        "  entropy_of_entanglement += (-1)*(s*s)*np.log(s*s)\n",
        "  entanglement_number+=s**4\n",
        "\n",
        "entanglement_number=np.sqrt(1-entanglement_number)"
      ],
      "execution_count": 17,
      "outputs": []
    },
    {
      "cell_type": "code",
      "metadata": {
        "id": "E0z7BgejuHDO",
        "outputId": "6e585460-caba-4c65-d010-11e1d988273b",
        "colab": {
          "base_uri": "https://localhost:8080/",
          "height": 51
        }
      },
      "source": [
        "print('The measured entropy of entanglement of the Bell state is ', entropy_of_entanglement, '.')\n",
        "print('The measured entanglement number of the Bell state is ', entanglement_number, '.')"
      ],
      "execution_count": 25,
      "outputs": [
        {
          "output_type": "stream",
          "text": [
            "The measured entropy of entanglement of the Bell state is  0.4929896734344239 .\n",
            "The measured entanglement number of the Bell state is  0.5600032031302045 .\n"
          ],
          "name": "stdout"
        }
      ]
    },
    {
      "cell_type": "code",
      "metadata": {
        "id": "ngjQTLZ922Ig"
      },
      "source": [
        "s = np.sqrt(2)/2\n",
        "entanglement_number_actual = np.sqrt(1-2*(s**4))\n",
        "entropy_of_entanglement_actual = -2*s*s*np.log(s*s)"
      ],
      "execution_count": 19,
      "outputs": []
    },
    {
      "cell_type": "code",
      "metadata": {
        "id": "FVo29OTaryjo"
      },
      "source": [
        "number_error = (entanglement_number_actual-entanglement_number)/entanglement_number_actual\n",
        "entropy_error = (entropy_of_entanglement_actual-entropy_of_entanglement)/entropy_of_entanglement_actual"
      ],
      "execution_count": 22,
      "outputs": []
    },
    {
      "cell_type": "code",
      "metadata": {
        "id": "2xjK88zur0Ef",
        "outputId": "1859df4a-84a7-424e-fa70-b699a3c31e13",
        "colab": {
          "base_uri": "https://localhost:8080/",
          "height": 51
        }
      },
      "source": [
        "print('The percent error of the experimental computation of the entropy of entanglement of the Bell state is ', entropy_error, '.')\n",
        "print('The percent error of the experimental computation of the entanglement number of the Bell state is ', number_error ,'.')"
      ],
      "execution_count": 24,
      "outputs": [
        {
          "output_type": "stream",
          "text": [
            "The percent error of the experimental computation of the entropy of entanglement of the Bell state is  0.28876624292668696 .\n",
            "The percent error of the experimental computation of the entanglement number of the Bell state is  0.2080358751608895 .\n"
          ],
          "name": "stdout"
        }
      ]
    },
    {
      "cell_type": "code",
      "metadata": {
        "id": "0wnoOMGWt6wh"
      },
      "source": [
        ""
      ],
      "execution_count": null,
      "outputs": []
    }
  ]
}